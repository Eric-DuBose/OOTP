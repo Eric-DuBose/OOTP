{
 "metadata": {
  "language_info": {
   "codemirror_mode": {
    "name": "ipython",
    "version": 3
   },
   "file_extension": ".py",
   "mimetype": "text/x-python",
   "name": "python",
   "nbconvert_exporter": "python",
   "pygments_lexer": "ipython3",
   "version": "3.9.4-final"
  },
  "orig_nbformat": 2,
  "kernelspec": {
   "name": "python394jvsc74a57bd0ef9a112bababdde47631dc20ef7b756b2d560247d6a5ae3c6204ea950c295e8b",
   "display_name": "Python 3.9.4 64-bit"
  },
  "metadata": {
   "interpreter": {
    "hash": "ef9a112bababdde47631dc20ef7b756b2d560247d6a5ae3c6204ea950c295e8b"
   }
  }
 },
 "nbformat": 4,
 "nbformat_minor": 2,
 "cells": [
  {
   "cell_type": "code",
   "execution_count": 2,
   "metadata": {},
   "outputs": [],
   "source": [
    "import pandas as pd\n",
    "import streamlit as st\n",
    "import numpy as np"
   ]
  },
  {
   "cell_type": "code",
   "execution_count": 3,
   "metadata": {},
   "outputs": [],
   "source": [
    "league = 'SBC'\n",
    "season = 2038\n",
    "curr_date = '2038-11-01'\n",
    "league_al_name = 'AL' \n",
    "league_nl_name = 'NL'\n",
    "\n",
    "# NBC Tournament only. This needs to be updated once annually\n",
    "tourney_start = '2023-07-04'\n",
    "tourney_end = '2023-07-25'\n",
    "\n",
    "path = 'C:/Users/night/OneDrive/Documents/Out of the Park Developments/OOTP Baseball 21/saved_games/'"
   ]
  },
  {
   "cell_type": "code",
   "execution_count": 4,
   "metadata": {},
   "outputs": [],
   "source": [
    "leagues = {\n",
    "    \"SBC\":[145, \n",
    "           '2038-04-04', \n",
    "           2038,\n",
    "           path + 'SBC.lg/import_export/csv/'],\n",
    "    \"PBC\":[146, \n",
    "           '2030-10-28',\n",
    "           2030,\n",
    "           path + 'PBC.lg/import_export/csv/'],\n",
    "    \"NBC\":[153, \n",
    "           '2023-04-11',\n",
    "           2024,\n",
    "           path + 'NBC.lg/import_export/csv/'],\n",
    "    \"MVP\":[153, \n",
    "           '2024-03-28', \n",
    "           2024,\n",
    "           path + 'MVP.lg/import_export/csv/']\n",
    "}"
   ]
  },
  {
   "cell_type": "code",
   "execution_count": 9,
   "metadata": {},
   "outputs": [
    {
     "output_type": "execute_result",
     "data": {
      "text/plain": [
       "<streamlit.delta_generator.DeltaGenerator at 0x1fc7cd94e20>"
      ]
     },
     "metadata": {},
     "execution_count": 9
    }
   ],
   "source": [
    "def comp_balance(league):\n",
    "    team_history = pd.read_csv(leagues[league][3] + 'team_history.csv')\n",
    "    team_history_financials = pd.read_csv(leagues[league][3] + 'team_history_financials.csv')\n",
    "    team_history = team_history[(team_history['year'] == (leagues[league][2] - 1)) & \n",
    "                            (team_history['league_id'] == leagues[league][0])].set_index('team_id')\n",
    "\n",
    "    team_history = team_history[['name', 'nickname', 'made_playoffs']]\n",
    "\n",
    "    team_history_financials = team_history_financials[(team_history_financials['year'] == (leagues['SBC'][2] - 1)) & \n",
    "                            (team_history_financials['league_id'] == leagues['SBC'][0])].set_index('team_id')\n",
    "\n",
    "    temp = pd.merge(team_history, team_history_financials, how = 'left', left_index = True, right_index = True)\n",
    "    \n",
    "    comp_bal = pd.DataFrame()\n",
    "    comp_bal['Team'] = temp['name'] + ' ' + temp['nickname']\n",
    "    comp_bal['Total Revenue'] = temp['gate_revenue'] + \\\n",
    "                                temp['season_ticket_revenue'] + \\\n",
    "                                temp['media_revenue'] + \\\n",
    "                                temp['merchandising_revenue'] + \\\n",
    "                                temp['playoff_revenue']\n",
    "    comp_bal['Media Revenue'] = temp['media_revenue']\n",
    "    comp_bal['Media Revenue %'] = round((comp_bal['Media Revenue']/comp_bal['Total Revenue'])*100,1)\n",
    "    comp_bal['Other Revenue %'] = 100 - comp_bal['Media Revenue %']\n",
    "    comp_bal['Market Size'] = temp['market']\n",
    "    comp_bal['Playoffs'] = temp['made_playoffs']\n",
    "    \n",
    "    return comp_bal\n",
    "\n",
    "sbc_comp_bal = comp_balance('SBC')\n",
    "st.table(sbc_comp_bal)"
   ]
  },
  {
   "cell_type": "code",
   "execution_count": 6,
   "metadata": {},
   "outputs": [],
   "source": [
    "def teams(league):\n",
    "    teams = pd.read_csv(leagues[league][3] + 'teams.csv')[['name', 'nickname','team_id','sub_league_id', 'division_id']]\n",
    "    teams = teams[teams['team_id'] < 80]\n",
    "    teams['league'] = np.where(teams['sub_league_id'] == 0, \"AL\", \"NL\")\n",
    "    teams['division'] = np.select(\n",
    "    [\n",
    "        (teams['sub_league_id'] == 0) & (teams['sub_league_id'] == 0),\n",
    "        (teams['sub_league_id'] == 0) & (teams['sub_league_id'] == 1),\n",
    "        (teams['sub_league_id'] == 0) & (teams['sub_league_id'] == 2),\n",
    "        (teams['sub_league_id'] == 1) & (teams['sub_league_id'] == 0),\n",
    "        (teams['sub_league_id'] == 1) & (teams['sub_league_id'] == 1),\n",
    "        (teams['sub_league_id'] == 1) & (teams['sub_league_id'] == 2)\n",
    "    ],\n",
    "    [\n",
    "        'East',\n",
    "        'Central',\n",
    "        'West',\n",
    "        'East',\n",
    "        'Central',\n",
    "        'West'\n",
    "    ],\n",
    "    default = 'Unknown'\n",
    "    )\n",
    "\n",
    "    teams['team'] = teams['name'] + ' ' + teams['nickname']\n",
    "\n",
    "    return teams[['team', 'league', 'division']].set_index(teams['team_id'])"
   ]
  },
  {
   "cell_type": "code",
   "execution_count": 10,
   "metadata": {},
   "outputs": [],
   "source": [
    "home_games = pd.read_csv(leagues[league][3] + 'games.csv')\n",
    "home_games = home_games[(home_games['league_id'] == leagues[league][0]) & \n",
    "                        (home_games['game_type'] == 0) &\n",
    "                        (home_games['date'].between(leagues[league][1], curr_date, inclusive = True))]\n",
    "home_games['home_id'] = home_games['home_team']\n",
    "home_games['runs_home'] = home_games['runs1']\n",
    "home_games['hits_home'] = home_games['hits1']\n",
    "home_games['errors_home'] = home_games['errors1']\n",
    "\n",
    "home_games = home_games[['home_id','date', 'runs_home', 'hits_home', 'errors_home', 'innings']].set_index(home_games['game_id'])\n",
    "\n",
    "\n",
    "away_games = pd.read_csv(leagues[league][3] + 'games.csv')\n",
    "away_games = away_games[(away_games['league_id'] == leagues[league][0]) & \n",
    "                        (away_games['game_type'] == 0) &\n",
    "                        (away_games['date'].between(leagues[league][1], curr_date, inclusive = True))]\n",
    "away_games['away_id'] = away_games['away_team']\n",
    "away_games['runs_away'] = away_games['runs0']\n",
    "away_games['hits_away'] = away_games['hits0']\n",
    "away_games['errors_away'] = away_games['errors0']\n",
    "\n",
    "away_games = away_games[['away_id','date', 'runs_away', 'hits_away', 'errors_away', 'innings']].set_index(away_games['game_id'])\n",
    "\n",
    "games_columns = away_games.columns.difference(home_games.columns)\n",
    "\n",
    "games = home_games.merge(away_games[games_columns], on = 'game_id').merge(\n",
    "    teams(league), how = 'left', left_on = 'home_id', right_on = 'team_id').rename(\n",
    "    columns={'team':'Home_Team', 'league':'Home_League', 'division':'Home_Division'}).merge(\n",
    "    teams(league), how = 'left', left_on = 'away_id', right_on = 'team_id').rename(\n",
    "    columns={'team':'Away_Team', 'league':'Away_League', 'division':'Away_Division'})\n",
    "\n",
    "standings = games.copy()\n",
    "standings['home_win'] = np.where(standings['runs_home'] > standings['runs_away'],1,0)\n",
    "standings['home_loss'] = np.where(standings['runs_home'] < standings['runs_away'],1,0)\n",
    "standings['away_win'] = np.where(standings['runs_home'] < standings['runs_away'],1,0)\n",
    "standings['away_loss'] = np.where(standings['runs_home'] > standings['runs_away'],1,0)\n",
    "\n",
    "standings['home_div_win'] = np.where(\n",
    "    (standings['Home_Division'] == standings['Away_Division']) &\n",
    "    (standings['Home_League'] == standings['Away_League']) &\n",
    "    (standings['runs_home'] > standings['runs_away']),1,0)\n",
    "\n",
    "standings['home_div_loss'] = np.where(\n",
    "    (standings['Home_Division'] == standings['Away_Division']) &\n",
    "    (standings['Home_League'] == standings['Away_League']) &\n",
    "    (standings['runs_home'] < standings['runs_away']),1,0)\n",
    "\n",
    "standings['away_div_win'] = np.where(\n",
    "    (standings['Home_Division'] == standings['Away_Division']) &\n",
    "    (standings['Home_League'] == standings['Away_League']) &\n",
    "    (standings['runs_home'] < standings['runs_away']),1,0)\n",
    "\n",
    "standings['away_div_loss'] = np.where(\n",
    "    (standings['Home_Division'] == standings['Away_Division']) &\n",
    "    (standings['Home_League'] == standings['Away_League']) &\n",
    "    (standings['runs_home'] > standings['runs_away']),1,0)"
   ]
  },
  {
   "cell_type": "code",
   "execution_count": 8,
   "metadata": {},
   "outputs": [
    {
     "output_type": "execute_result",
     "data": {
      "text/plain": [
       "    home_id       date  runs_home  hits_home  errors_home  innings  away_id  \\\n",
       "0        36  2038-10-1          5         11            1        9       38   \n",
       "1        49  2038-10-1          4         12            0       11       41   \n",
       "2        33  2038-10-1          4         11            1        9       53   \n",
       "3        32  2038-10-1         10         14            0        9       60   \n",
       "4        34  2038-10-1          3         10            1        9       57   \n",
       "..      ...        ...        ...        ...          ...      ...      ...   \n",
       "79       48  2038-10-6          2          7            1        9       33   \n",
       "80       50  2038-10-6          7         15            1        9       49   \n",
       "81       38  2038-10-6          5         14            0       14       47   \n",
       "82       37  2038-10-6          5          7            0        9       52   \n",
       "83       37  2038-10-7          6         11            0        9       52   \n",
       "\n",
       "    errors_away  hits_away  runs_away  ... Away_League Away_Division home_win  \\\n",
       "0             0         14         12  ...          AL          East        0   \n",
       "1             0          8          2  ...          NL       Central        1   \n",
       "2             0          8          3  ...          AL          East        1   \n",
       "3             1          4          3  ...          NL       Central        1   \n",
       "4             0         10          7  ...          AL          East        0   \n",
       "..          ...        ...        ...  ...         ...           ...      ...   \n",
       "79            1          2          0  ...          AL          East        1   \n",
       "80            0          6          3  ...          NL       Central        1   \n",
       "81            0         10          6  ...          AL          East        0   \n",
       "82            0         10          4  ...          NL       Central        1   \n",
       "83            1          7          1  ...          NL       Central        1   \n",
       "\n",
       "   home_loss away_win away_loss  home_div_win  home_div_loss  away_div_win  \\\n",
       "0          1        1         0             0              0             0   \n",
       "1          0        0         1             1              0             0   \n",
       "2          0        0         1             1              0             0   \n",
       "3          0        0         1             1              0             0   \n",
       "4          1        1         0             0              1             1   \n",
       "..       ...      ...       ...           ...            ...           ...   \n",
       "79         0        0         1             1              0             0   \n",
       "80         0        0         1             1              0             0   \n",
       "81         1        1         0             0              1             1   \n",
       "82         0        0         1             1              0             0   \n",
       "83         0        0         1             1              0             0   \n",
       "\n",
       "    away_div_loss  \n",
       "0               0  \n",
       "1               1  \n",
       "2               1  \n",
       "3               1  \n",
       "4               0  \n",
       "..            ...  \n",
       "79              1  \n",
       "80              1  \n",
       "81              0  \n",
       "82              1  \n",
       "83              1  \n",
       "\n",
       "[84 rows x 24 columns]"
      ],
      "text/html": "<div>\n<style scoped>\n    .dataframe tbody tr th:only-of-type {\n        vertical-align: middle;\n    }\n\n    .dataframe tbody tr th {\n        vertical-align: top;\n    }\n\n    .dataframe thead th {\n        text-align: right;\n    }\n</style>\n<table border=\"1\" class=\"dataframe\">\n  <thead>\n    <tr style=\"text-align: right;\">\n      <th></th>\n      <th>home_id</th>\n      <th>date</th>\n      <th>runs_home</th>\n      <th>hits_home</th>\n      <th>errors_home</th>\n      <th>innings</th>\n      <th>away_id</th>\n      <th>errors_away</th>\n      <th>hits_away</th>\n      <th>runs_away</th>\n      <th>...</th>\n      <th>Away_League</th>\n      <th>Away_Division</th>\n      <th>home_win</th>\n      <th>home_loss</th>\n      <th>away_win</th>\n      <th>away_loss</th>\n      <th>home_div_win</th>\n      <th>home_div_loss</th>\n      <th>away_div_win</th>\n      <th>away_div_loss</th>\n    </tr>\n  </thead>\n  <tbody>\n    <tr>\n      <th>0</th>\n      <td>36</td>\n      <td>2038-10-1</td>\n      <td>5</td>\n      <td>11</td>\n      <td>1</td>\n      <td>9</td>\n      <td>38</td>\n      <td>0</td>\n      <td>14</td>\n      <td>12</td>\n      <td>...</td>\n      <td>AL</td>\n      <td>East</td>\n      <td>0</td>\n      <td>1</td>\n      <td>1</td>\n      <td>0</td>\n      <td>0</td>\n      <td>0</td>\n      <td>0</td>\n      <td>0</td>\n    </tr>\n    <tr>\n      <th>1</th>\n      <td>49</td>\n      <td>2038-10-1</td>\n      <td>4</td>\n      <td>12</td>\n      <td>0</td>\n      <td>11</td>\n      <td>41</td>\n      <td>0</td>\n      <td>8</td>\n      <td>2</td>\n      <td>...</td>\n      <td>NL</td>\n      <td>Central</td>\n      <td>1</td>\n      <td>0</td>\n      <td>0</td>\n      <td>1</td>\n      <td>1</td>\n      <td>0</td>\n      <td>0</td>\n      <td>1</td>\n    </tr>\n    <tr>\n      <th>2</th>\n      <td>33</td>\n      <td>2038-10-1</td>\n      <td>4</td>\n      <td>11</td>\n      <td>1</td>\n      <td>9</td>\n      <td>53</td>\n      <td>0</td>\n      <td>8</td>\n      <td>3</td>\n      <td>...</td>\n      <td>AL</td>\n      <td>East</td>\n      <td>1</td>\n      <td>0</td>\n      <td>0</td>\n      <td>1</td>\n      <td>1</td>\n      <td>0</td>\n      <td>0</td>\n      <td>1</td>\n    </tr>\n    <tr>\n      <th>3</th>\n      <td>32</td>\n      <td>2038-10-1</td>\n      <td>10</td>\n      <td>14</td>\n      <td>0</td>\n      <td>9</td>\n      <td>60</td>\n      <td>1</td>\n      <td>4</td>\n      <td>3</td>\n      <td>...</td>\n      <td>NL</td>\n      <td>Central</td>\n      <td>1</td>\n      <td>0</td>\n      <td>0</td>\n      <td>1</td>\n      <td>1</td>\n      <td>0</td>\n      <td>0</td>\n      <td>1</td>\n    </tr>\n    <tr>\n      <th>4</th>\n      <td>34</td>\n      <td>2038-10-1</td>\n      <td>3</td>\n      <td>10</td>\n      <td>1</td>\n      <td>9</td>\n      <td>57</td>\n      <td>0</td>\n      <td>10</td>\n      <td>7</td>\n      <td>...</td>\n      <td>AL</td>\n      <td>East</td>\n      <td>0</td>\n      <td>1</td>\n      <td>1</td>\n      <td>0</td>\n      <td>0</td>\n      <td>1</td>\n      <td>1</td>\n      <td>0</td>\n    </tr>\n    <tr>\n      <th>...</th>\n      <td>...</td>\n      <td>...</td>\n      <td>...</td>\n      <td>...</td>\n      <td>...</td>\n      <td>...</td>\n      <td>...</td>\n      <td>...</td>\n      <td>...</td>\n      <td>...</td>\n      <td>...</td>\n      <td>...</td>\n      <td>...</td>\n      <td>...</td>\n      <td>...</td>\n      <td>...</td>\n      <td>...</td>\n      <td>...</td>\n      <td>...</td>\n      <td>...</td>\n      <td>...</td>\n    </tr>\n    <tr>\n      <th>79</th>\n      <td>48</td>\n      <td>2038-10-6</td>\n      <td>2</td>\n      <td>7</td>\n      <td>1</td>\n      <td>9</td>\n      <td>33</td>\n      <td>1</td>\n      <td>2</td>\n      <td>0</td>\n      <td>...</td>\n      <td>AL</td>\n      <td>East</td>\n      <td>1</td>\n      <td>0</td>\n      <td>0</td>\n      <td>1</td>\n      <td>1</td>\n      <td>0</td>\n      <td>0</td>\n      <td>1</td>\n    </tr>\n    <tr>\n      <th>80</th>\n      <td>50</td>\n      <td>2038-10-6</td>\n      <td>7</td>\n      <td>15</td>\n      <td>1</td>\n      <td>9</td>\n      <td>49</td>\n      <td>0</td>\n      <td>6</td>\n      <td>3</td>\n      <td>...</td>\n      <td>NL</td>\n      <td>Central</td>\n      <td>1</td>\n      <td>0</td>\n      <td>0</td>\n      <td>1</td>\n      <td>1</td>\n      <td>0</td>\n      <td>0</td>\n      <td>1</td>\n    </tr>\n    <tr>\n      <th>81</th>\n      <td>38</td>\n      <td>2038-10-6</td>\n      <td>5</td>\n      <td>14</td>\n      <td>0</td>\n      <td>14</td>\n      <td>47</td>\n      <td>0</td>\n      <td>10</td>\n      <td>6</td>\n      <td>...</td>\n      <td>AL</td>\n      <td>East</td>\n      <td>0</td>\n      <td>1</td>\n      <td>1</td>\n      <td>0</td>\n      <td>0</td>\n      <td>1</td>\n      <td>1</td>\n      <td>0</td>\n    </tr>\n    <tr>\n      <th>82</th>\n      <td>37</td>\n      <td>2038-10-6</td>\n      <td>5</td>\n      <td>7</td>\n      <td>0</td>\n      <td>9</td>\n      <td>52</td>\n      <td>0</td>\n      <td>10</td>\n      <td>4</td>\n      <td>...</td>\n      <td>NL</td>\n      <td>Central</td>\n      <td>1</td>\n      <td>0</td>\n      <td>0</td>\n      <td>1</td>\n      <td>1</td>\n      <td>0</td>\n      <td>0</td>\n      <td>1</td>\n    </tr>\n    <tr>\n      <th>83</th>\n      <td>37</td>\n      <td>2038-10-7</td>\n      <td>6</td>\n      <td>11</td>\n      <td>0</td>\n      <td>9</td>\n      <td>52</td>\n      <td>1</td>\n      <td>7</td>\n      <td>1</td>\n      <td>...</td>\n      <td>NL</td>\n      <td>Central</td>\n      <td>1</td>\n      <td>0</td>\n      <td>0</td>\n      <td>1</td>\n      <td>1</td>\n      <td>0</td>\n      <td>0</td>\n      <td>1</td>\n    </tr>\n  </tbody>\n</table>\n<p>84 rows × 24 columns</p>\n</div>"
     },
     "metadata": {},
     "execution_count": 8
    }
   ],
   "source": [
    "standings"
   ]
  },
  {
   "cell_type": "code",
   "execution_count": null,
   "metadata": {},
   "outputs": [],
   "source": []
  }
 ]
}